{
  "cells":[
    {
      "cell_type":"code",
      "source":[
        "import numpy as np\n",
        "import pandas as pd"
      ],
      "execution_count":1,
      "outputs":[
        
      ],
      "metadata":{
        
      }
    },
    {
      "cell_type":"code",
      "source":[
        "url = \"https:\/\/archive.ics.uci.edu\/ml\/machine-learning-databases\/iris\/iris.data\"\n",
        "names = ['sepal length', 'sepal width', 'petal length', 'petal width', 'class']\n",
        "ds = pd.read_csv(url, names=names)"
      ],
      "execution_count":2,
      "outputs":[
        
      ],
      "metadata":{
        
      }
    },
    {
      "cell_type":"code",
      "source":[
        "ds.head()"
      ],
      "execution_count":3,
      "outputs":[
        {
          "data":{
            "text\/html":[
              "<div>\n",
              "<style scoped>\n",
              "    .dataframe tbody tr th:only-of-type {\n",
              "        vertical-align: middle;\n",
              "    }\n",
              "\n",
              "    .dataframe tbody tr th {\n",
              "        vertical-align: top;\n",
              "    }\n",
              "\n",
              "    .dataframe thead th {\n",
              "        text-align: right;\n",
              "    }\n",
              "<\/style>\n",
              "<table border=\"1\" class=\"dataframe\">\n",
              "  <thead>\n",
              "    <tr style=\"text-align: right;\">\n",
              "      <th><\/th>\n",
              "      <th>sepal length<\/th>\n",
              "      <th>sepal width<\/th>\n",
              "      <th>petal length<\/th>\n",
              "      <th>petal width<\/th>\n",
              "      <th>class<\/th>\n",
              "    <\/tr>\n",
              "  <\/thead>\n",
              "  <tbody>\n",
              "    <tr>\n",
              "      <th>0<\/th>\n",
              "      <td>5.1<\/td>\n",
              "      <td>3.5<\/td>\n",
              "      <td>1.4<\/td>\n",
              "      <td>0.2<\/td>\n",
              "      <td>Iris-setosa<\/td>\n",
              "    <\/tr>\n",
              "    <tr>\n",
              "      <th>1<\/th>\n",
              "      <td>4.9<\/td>\n",
              "      <td>3.0<\/td>\n",
              "      <td>1.4<\/td>\n",
              "      <td>0.2<\/td>\n",
              "      <td>Iris-setosa<\/td>\n",
              "    <\/tr>\n",
              "    <tr>\n",
              "      <th>2<\/th>\n",
              "      <td>4.7<\/td>\n",
              "      <td>3.2<\/td>\n",
              "      <td>1.3<\/td>\n",
              "      <td>0.2<\/td>\n",
              "      <td>Iris-setosa<\/td>\n",
              "    <\/tr>\n",
              "    <tr>\n",
              "      <th>3<\/th>\n",
              "      <td>4.6<\/td>\n",
              "      <td>3.1<\/td>\n",
              "      <td>1.5<\/td>\n",
              "      <td>0.2<\/td>\n",
              "      <td>Iris-setosa<\/td>\n",
              "    <\/tr>\n",
              "    <tr>\n",
              "      <th>4<\/th>\n",
              "      <td>5.0<\/td>\n",
              "      <td>3.6<\/td>\n",
              "      <td>1.4<\/td>\n",
              "      <td>0.2<\/td>\n",
              "      <td>Iris-setosa<\/td>\n",
              "    <\/tr>\n",
              "  <\/tbody>\n",
              "<\/table>\n",
              "<\/div>"
            ]
          },
          "metadata":{
            
          },
          "output_type":"display_data"
        }
      ],
      "metadata":{
        
      }
    },
    {
      "cell_type":"code",
      "source":[
        "#normalization\n",
        "\n",
        "list_sl=[]\n",
        "list_sw=[]\n",
        "list_pl=[]\n",
        "list_pw=[]\n",
        "for sl in ds['sepal length']:\n",
        "    sl = (sl-min(ds['sepal length']))\/(max(ds['sepal length'])-min(ds['sepal length']))\n",
        "    list_sl.append(sl)\n",
        "for sw in ds['sepal width']:\n",
        "    sw = (sw-min(ds['sepal width']))\/(max(ds['sepal width'])-min(ds['sepal width']))\n",
        "    list_sw.append(sw)    \n",
        "for pl in ds['petal length']:\n",
        "    pl = (pl-min(ds['petal length']))\/(max(ds['petal length'])-min(ds['petal length']))\n",
        "    list_pl.append(pl)\n",
        "for pw in ds['petal width']:\n",
        "    pw = (pw-min(ds['petal width']))\/(max(ds['petal width'])-min(ds['petal width']))\n",
        "    list_pw.append(pw) \n",
        "\n",
        "X = np.array( list(zip(list_sl,list_sw, list_pl, list_pw)) )"
      ],
      "execution_count":4,
      "outputs":[
        
      ],
      "metadata":{
        
      }
    },
    {
      "cell_type":"code",
      "source":[
        "nc = 3         # number of classes\n",
        "W = []         # list for w vectors\n",
        "M = len(X)     # number of x vectors\n",
        "N = len(X[0])  # dimensionality of x vectors"
      ],
      "execution_count":5,
      "outputs":[
        
      ],
      "metadata":{
        
      }
    },
    {
      "cell_type":"code",
      "source":[
        "def get_weights():\n",
        "    y = np.random.random() * (2.0 \/ np.sqrt(M))\n",
        "    return 0.5 - (1 \/ np.sqrt(M)) + y"
      ],
      "execution_count":6,
      "outputs":[
        
      ],
      "metadata":{
        
      }
    },
    {
      "cell_type":"code",
      "source":[
        "for i in range(nc):\n",
        "    W.append(list())\n",
        "    for j in range(N):\n",
        "        W[i].append(get_weights() * 0.5)"
      ],
      "execution_count":7,
      "outputs":[
        
      ],
      "metadata":{
        
      }
    },
    {
      "cell_type":"code",
      "source":[
        "def distance(w, x):\n",
        "    r = 0\n",
        "    for i in range(len(w)):\n",
        "        r = r + (w[i] - x[i])*(w[i] - x[i])\n",
        "    \n",
        "    r = np.sqrt(r)\n",
        "    return r"
      ],
      "execution_count":8,
      "outputs":[
        
      ],
      "metadata":{
        
      }
    },
    {
      "cell_type":"code",
      "source":[
        "def Findclosest(W, x):\n",
        "    wm = W[0]\n",
        "    r = distance(wm, x)\n",
        "    \n",
        "    i = 0\n",
        "    i_n = i\n",
        "    \n",
        "    for w in W:\n",
        "        if distance(w, x) < r:\n",
        "            r = distance(w, x)\n",
        "            wm = w\n",
        "            i_n = i\n",
        "        i = i + 1\n",
        "    \n",
        "    return (wm, i_n)"
      ],
      "execution_count":9,
      "outputs":[
        
      ],
      "metadata":{
        
      }
    },
    {
      "cell_type":"code",
      "source":[
        "print(W)"
      ],
      "execution_count":10,
      "outputs":[
        {
          "name":"stdout",
          "text":[
            "[[0.25145576339908676, 0.2734949003867375, 0.22393436975473496, 0.22096443429591575], [0.25984213859365307, 0.23389678950106318, 0.23303022163255385, 0.2717992997633222], [0.21768643880067617, 0.27512959178133073, 0.2426821824658028, 0.2805238599112646]]\n"
          ],
          "output_type":"stream"
        }
      ],
      "metadata":{
        
      }
    },
    {
      "cell_type":"code",
      "source":[
        "la = 0.3    # λ coefficient\n",
        "dla = 0.05  # Δλ\n",
        "\n",
        "while la >= 0:\n",
        "    for k in range(10):\n",
        "        for x in X:\n",
        "            wm = Findclosest(W, x)[0]\n",
        "            for i in range(len(wm)):\n",
        "                wm[i] = wm[i] + la * (x[i] - wm[i]) \n",
        "\n",
        "    la = la - dla"
      ],
      "execution_count":11,
      "outputs":[
        
      ],
      "metadata":{
        
      }
    },
    {
      "cell_type":"code",
      "source":[
        "Data = list() \n",
        "\n",
        "for i in range(len(W)):\n",
        "    Data.append(list())\n",
        "\n",
        "dfList = ds['class'].to_numpy()"
      ],
      "execution_count":17,
      "outputs":[
        
      ],
      "metadata":{
        
      }
    },
    {
      "cell_type":"code",
      "source":[
        "DS = list()\n",
        "i = 0\n",
        "for x in X:\n",
        "    i_n = Findclosest(W, x)[1]\n",
        "    Data[i_n].append(x)\n",
        "    DS.append([i_n, dfList[i]])\n",
        "    i = i + 1\n",
        "\n",
        "print (DS)"
      ],
      "execution_count":18,
      "outputs":[
        {
          "name":"stdout",
          "text":[
            "[[0, 'Iris-setosa'], [0, 'Iris-setosa'], [0, 'Iris-setosa'], [0, 'Iris-setosa'], [0, 'Iris-setosa'], [0, 'Iris-setosa'], [0, 'Iris-setosa'], [0, 'Iris-setosa'], [0, 'Iris-setosa'], [0, 'Iris-setosa'], [0, 'Iris-setosa'], [0, 'Iris-setosa'], [0, 'Iris-setosa'], [0, 'Iris-setosa'], [0, 'Iris-setosa'], [0, 'Iris-setosa'], [0, 'Iris-setosa'], [0, 'Iris-setosa'], [0, 'Iris-setosa'], [0, 'Iris-setosa'], [0, 'Iris-setosa'], [0, 'Iris-setosa'], [0, 'Iris-setosa'], [0, 'Iris-setosa'], [0, 'Iris-setosa'], [0, 'Iris-setosa'], [0, 'Iris-setosa'], [0, 'Iris-setosa'], [0, 'Iris-setosa'], [0, 'Iris-setosa'], [0, 'Iris-setosa'], [0, 'Iris-setosa'], [0, 'Iris-setosa'], [0, 'Iris-setosa'], [0, 'Iris-setosa'], [0, 'Iris-setosa'], [0, 'Iris-setosa'], [0, 'Iris-setosa'], [0, 'Iris-setosa'], [0, 'Iris-setosa'], [0, 'Iris-setosa'], [0, 'Iris-setosa'], [0, 'Iris-setosa'], [0, 'Iris-setosa'], [0, 'Iris-setosa'], [0, 'Iris-setosa'], [0, 'Iris-setosa'], [0, 'Iris-setosa'], [0, 'Iris-setosa'], [0, 'Iris-setosa'], [2, 'Iris-versicolor'], [1, 'Iris-versicolor'], [2, 'Iris-versicolor'], [1, 'Iris-versicolor'], [1, 'Iris-versicolor'], [1, 'Iris-versicolor'], [1, 'Iris-versicolor'], [1, 'Iris-versicolor'], [1, 'Iris-versicolor'], [1, 'Iris-versicolor'], [1, 'Iris-versicolor'], [1, 'Iris-versicolor'], [1, 'Iris-versicolor'], [1, 'Iris-versicolor'], [1, 'Iris-versicolor'], [1, 'Iris-versicolor'], [1, 'Iris-versicolor'], [1, 'Iris-versicolor'], [1, 'Iris-versicolor'], [1, 'Iris-versicolor'], [1, 'Iris-versicolor'], [1, 'Iris-versicolor'], [1, 'Iris-versicolor'], [1, 'Iris-versicolor'], [1, 'Iris-versicolor'], [1, 'Iris-versicolor'], [1, 'Iris-versicolor'], [2, 'Iris-versicolor'], [1, 'Iris-versicolor'], [1, 'Iris-versicolor'], [1, 'Iris-versicolor'], [1, 'Iris-versicolor'], [1, 'Iris-versicolor'], [1, 'Iris-versicolor'], [1, 'Iris-versicolor'], [1, 'Iris-versicolor'], [1, 'Iris-versicolor'], [1, 'Iris-versicolor'], [1, 'Iris-versicolor'], [1, 'Iris-versicolor'], [1, 'Iris-versicolor'], [1, 'Iris-versicolor'], [1, 'Iris-versicolor'], [1, 'Iris-versicolor'], [1, 'Iris-versicolor'], [1, 'Iris-versicolor'], [1, 'Iris-versicolor'], [1, 'Iris-versicolor'], [1, 'Iris-versicolor'], [1, 'Iris-versicolor'], [2, 'Iris-virginica'], [1, 'Iris-virginica'], [2, 'Iris-virginica'], [2, 'Iris-virginica'], [2, 'Iris-virginica'], [2, 'Iris-virginica'], [1, 'Iris-virginica'], [2, 'Iris-virginica'], [2, 'Iris-virginica'], [2, 'Iris-virginica'], [2, 'Iris-virginica'], [1, 'Iris-virginica'], [2, 'Iris-virginica'], [1, 'Iris-virginica'], [2, 'Iris-virginica'], [2, 'Iris-virginica'], [2, 'Iris-virginica'], [2, 'Iris-virginica'], [2, 'Iris-virginica'], [1, 'Iris-virginica'], [2, 'Iris-virginica'], [1, 'Iris-virginica'], [2, 'Iris-virginica'], [1, 'Iris-virginica'], [2, 'Iris-virginica'], [2, 'Iris-virginica'], [1, 'Iris-virginica'], [1, 'Iris-virginica'], [2, 'Iris-virginica'], [2, 'Iris-virginica'], [2, 'Iris-virginica'], [2, 'Iris-virginica'], [2, 'Iris-virginica'], [1, 'Iris-virginica'], [1, 'Iris-virginica'], [2, 'Iris-virginica'], [2, 'Iris-virginica'], [2, 'Iris-virginica'], [1, 'Iris-virginica'], [2, 'Iris-virginica'], [2, 'Iris-virginica'], [2, 'Iris-virginica'], [1, 'Iris-virginica'], [2, 'Iris-virginica'], [2, 'Iris-virginica'], [2, 'Iris-virginica'], [1, 'Iris-virginica'], [2, 'Iris-virginica'], [2, 'Iris-virginica'], [1, 'Iris-virginica']]\n"
          ],
          "output_type":"stream"
        }
      ],
      "metadata":{
        
      }
    }
  ],
  "metadata":{
    
  },
  "nbformat":4,
  "nbformat_minor":0
}